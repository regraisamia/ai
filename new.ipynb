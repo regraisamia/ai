{
 "cells": [
  {
   "cell_type": "code",
   "execution_count": 20,
   "metadata": {},
   "outputs": [
    {
     "name": "stdout",
     "output_type": "stream",
     "text": [
      "Dialogue examples:\n",
      "[\"The kitchen stinks . __eou__ I'll throw out the garbage . __eou__\\n\", 'So Dick , how about getting some coffee for tonight ? __eou__ Coffee ? I don ’ t honestly like that kind of stuff . __eou__ Come on , you can at least try a little , besides your cigarette . __eou__ What ’ s wrong with that ? Cigarette is the thing I go crazy for . __eou__ Not for me , Dick . __eou__\\n']\n",
      "\n",
      "Topic examples:\n",
      "['1\\n', '1\\n']\n",
      "\n",
      "Act examples:\n",
      "['3 4 \\n', '3 4 3 1 1 \\n']\n",
      "\n",
      "Emotion examples:\n",
      "['2 0 \\n', '4 2 0 1 0 \\n']\n",
      "[{'dialogue': 'The kitchen stinks .', 'topic': '1', 'act': '3', 'emotion': '2'}, {'dialogue': \"I'll throw out the garbage .\", 'topic': '1', 'act': '4', 'emotion': '0'}]\n",
      "[{'dialogue': 'So Dick , how about getting some coffee for tonight ?', 'topic': '1', 'act': '3', 'emotion': '4'}, {'dialogue': 'Coffee ? I don ’ t honestly like that kind of stuff .', 'topic': '1', 'act': '4', 'emotion': '2'}, {'dialogue': 'Come on , you can at least try a little , besides your cigarette .', 'topic': '1', 'act': '3', 'emotion': '0'}, {'dialogue': 'What ’ s wrong with that ? Cigarette is the thing I go crazy for .', 'topic': '1', 'act': '1', 'emotion': '1'}, {'dialogue': 'Not for me , Dick .', 'topic': '1', 'act': '1', 'emotion': '0'}]\n"
     ]
    }
   ],
   "source": [
    "# Fonction pour charger un fichier texte avec gestion d'encodage\n",
    "def load_file(file_path, encoding='utf-8'):\n",
    "    try:\n",
    "        with open(file_path, 'r', encoding=encoding) as file:\n",
    "            return file.readlines()\n",
    "    except UnicodeDecodeError:\n",
    "        # Si 'utf-8' échoue, essayer 'latin1' ou 'cp1252'\n",
    "        print(f\"Erreur d'encodage avec {encoding}. Tentative avec 'latin1'.\")\n",
    "        with open(file_path, 'r', encoding='latin1') as file:\n",
    "            return file.readlines()\n",
    "\n",
    "# Chargement des fichiers contenant les dialogues, les sujets, les actes et les émotions\n",
    "dialogues_cleaned = load_file('C:/Users/hp/Desktop/ai/EMNLP_dataset/dialogues_text.txt')  # Conversations\n",
    "dialogues_topic = load_file('C:/Users/hp/Desktop/ai/EMNLP_dataset/dialogues_topic.txt')      # Sujets des répliques\n",
    "dialogues_act = load_file('C:/Users/hp/Desktop/ai/EMNLP_dataset/dialogues_act.txt')          # Actes des répliques\n",
    "dialogues_emotion = load_file('C:/Users/hp/Desktop/ai/EMNLP_dataset/dialogues_emotion.txt')  # Émotions des répliques\n",
    "\n",
    "# Vérifier les 2 premières lignes des fichiers chargés pour validation\n",
    "print(\"Dialogue examples:\")\n",
    "print(dialogues_cleaned[:2])\n",
    "\n",
    "print(\"\\nTopic examples:\")\n",
    "print(dialogues_topic[:2])\n",
    "\n",
    "print(\"\\nAct examples:\")\n",
    "print(dialogues_act[:2])\n",
    "\n",
    "print(\"\\nEmotion examples:\")\n",
    "print(dialogues_emotion[:2])\n",
    "\n",
    "# Fusionner les données dans une seule liste\n",
    "data = []\n",
    "for i in range(len(dialogues_cleaned)):\n",
    "    dialogue = dialogues_cleaned[i].strip().split('__eou__')  # Séparer les répliques du dialogue\n",
    "    topic = dialogues_topic[i].strip()  # Un seul sujet pour toute la conversation\n",
    "    act = dialogues_act[i].strip().split()  # Les actes sont des indices pour chaque réplique\n",
    "    emotion = dialogues_emotion[i].strip().split()  # Les émotions sont des indices pour chaque réplique\n",
    "    \n",
    "    # Créer un dictionnaire pour chaque entrée de dialogue\n",
    "    dialogue_data = []\n",
    "    for j in range(len(dialogue)):\n",
    "        if dialogue[j].strip():  # Ignorer les répliques vides\n",
    "            dialogue_data.append({\n",
    "                'dialogue': dialogue[j].strip(),\n",
    "                'topic': topic,  # Le même sujet pour toute la conversation\n",
    "                'act': act[j] if j < len(act) else None,\n",
    "                'emotion': emotion[j] if j < len(emotion) else None\n",
    "            })\n",
    "    \n",
    "    if dialogue_data:  # Ajouter le dialogue structuré dans la liste globale seulement si non vide\n",
    "        data.append(dialogue_data)\n",
    "\n",
    "# Affichage des 2 premiers exemples fusionnés\n",
    "for item in data[:2]:\n",
    "    print(item)\n"
   ]
  },
  {
   "cell_type": "code",
   "execution_count": 26,
   "metadata": {},
   "outputs": [
    {
     "name": "stdout",
     "output_type": "stream",
     "text": [
      "Nombre total de dialogues: 13118\n",
      "Nombre total de sujets: 13118\n",
      "Nombre total d'actes: 13118\n",
      "Nombre total d'émotions: 13118\n"
     ]
    }
   ],
   "source": [
    "# Vérifier la taille des différentes listes\n",
    "print(f\"Nombre total de dialogues: {len(dialogues_cleaned)}\")\n",
    "print(f\"Nombre total de sujets: {len(dialogues_topic)}\")\n",
    "print(f\"Nombre total d'actes: {len(dialogues_act)}\")\n",
    "print(f\"Nombre total d'émotions: {len(dialogues_emotion)}\")\n"
   ]
  },
  {
   "cell_type": "code",
   "execution_count": 27,
   "metadata": {},
   "outputs": [
    {
     "name": "stdout",
     "output_type": "stream",
     "text": [
      "Comptage des émotions: Counter({'0': 85572, '4': 12885, '6': 1823, '5': 1150, '1': 1022, '2': 353, '3': 174})\n",
      "Comptage des actes: Counter({'1': 46532, '2': 29428, '3': 17295, '4': 9724})\n"
     ]
    }
   ],
   "source": [
    "from collections import Counter\n",
    "\n",
    "# Compter les émotions et les actes pour chaque réplique\n",
    "emotion_counts = Counter()\n",
    "act_counts = Counter()\n",
    "\n",
    "for dialogue_data in data:\n",
    "    for entry in dialogue_data:\n",
    "        if entry['emotion']:\n",
    "            emotion_counts[entry['emotion']] += 1\n",
    "        if entry['act']:\n",
    "            act_counts[entry['act']] += 1\n",
    "\n",
    "# Afficher les comptages\n",
    "print(f\"Comptage des émotions: {emotion_counts}\")\n",
    "print(f\"Comptage des actes: {act_counts}\")\n"
   ]
  },
  {
   "cell_type": "code",
   "execution_count": 28,
   "metadata": {},
   "outputs": [
    {
     "name": "stdout",
     "output_type": "stream",
     "text": [
      "[[{'dialogue': 'The kitchen stinks .', 'topic': '1', 'act': '3', 'emotion': '2'}, {'dialogue': \"I'll throw out the garbage .\", 'topic': '1', 'act': '4', 'emotion': '0'}], [{'dialogue': 'So Dick , how about getting some coffee for tonight ?', 'topic': '1', 'act': '3', 'emotion': '4'}, {'dialogue': 'Coffee ? I don ’ t honestly like that kind of stuff .', 'topic': '1', 'act': '4', 'emotion': '2'}, {'dialogue': 'Come on , you can at least try a little , besides your cigarette .', 'topic': '1', 'act': '3', 'emotion': '0'}, {'dialogue': 'What ’ s wrong with that ? Cigarette is the thing I go crazy for .', 'topic': '1', 'act': '1', 'emotion': '1'}, {'dialogue': 'Not for me , Dick .', 'topic': '1', 'act': '1', 'emotion': '0'}]]\n"
     ]
    }
   ],
   "source": [
    "# Nettoyer les dialogues en supprimant les répliques vides\n",
    "data_cleaned = []\n",
    "for dialogue_data in data:\n",
    "    cleaned_dialogue_data = [entry for entry in dialogue_data if entry['dialogue'].strip()]\n",
    "    if cleaned_dialogue_data:\n",
    "        data_cleaned.append(cleaned_dialogue_data)\n",
    "\n",
    "# Vérifier les deux premiers exemples nettoyés\n",
    "print(data_cleaned[:2])\n"
   ]
  },
  {
   "cell_type": "code",
   "execution_count": null,
   "metadata": {},
   "outputs": [],
   "source": []
  },
  {
   "cell_type": "code",
   "execution_count": 29,
   "metadata": {},
   "outputs": [
    {
     "name": "stderr",
     "output_type": "stream",
     "text": [
      "C:\\Users\\hp\\AppData\\Local\\Temp\\ipykernel_7872\\920129238.py:10: FutureWarning: \n",
      "\n",
      "Passing `palette` without assigning `hue` is deprecated and will be removed in v0.14.0. Assign the `x` variable to `hue` and set `legend=False` for the same effect.\n",
      "\n",
      "  sns.barplot(x=emotion_labels, y=emotion_values, palette='viridis')\n"
     ]
    },
    {
     "data": {
      "image/png": "[encoded data removed]",
      "text/plain": [
       "<Figure size 1000x600 with 1 Axes>"
      ]
     },
     "metadata": {},
     "output_type": "display_data"
    }
   ],
   "source": [
    "import matplotlib.pyplot as plt\n",
    "import seaborn as sns\n",
    "\n",
    "# Convertir les comptages en liste de tuples pour la visualisation\n",
    "emotion_labels = list(emotion_counts.keys())\n",
    "emotion_values = list(emotion_counts.values())\n",
    "\n",
    "# Créer le graphique\n",
    "plt.figure(figsize=(10, 6))\n",
    "sns.barplot(x=emotion_labels, y=emotion_values, palette='viridis')\n",
    "plt.title('Distribution des émotions dans les dialogues')\n",
    "plt.xlabel('Émotions')\n",
    "plt.ylabel('Fréquence')\n",
    "plt.xticks(rotation=45)\n",
    "plt.tight_layout()\n",
    "plt.show()\n"
   ]
  },
  {
   "cell_type": "code",
   "execution_count": 32,
   "metadata": {},
   "outputs": [
    {
     "data": {
      "image/png": "[encoded data removed]",
      "text/plain": [
       "<Figure size 1200x600 with 1 Axes>"
      ]
     },
     "metadata": {},
     "output_type": "display_data"
    }
   ],
   "source": [
    "import pandas as pd\n",
    "\n",
    "# Liste pour stocker les données avant de les convertir en DataFrame\n",
    "act_emotion_data = []\n",
    "\n",
    "# Collecter les paires 'act' et 'emotion' dans la liste\n",
    "for dialogue_data in data_cleaned:\n",
    "    for entry in dialogue_data:\n",
    "        if entry['act'] and entry['emotion']:\n",
    "            act_emotion_data.append({'act': entry['act'], 'emotion': entry['emotion']})\n",
    "\n",
    "# Créer le DataFrame à partir de la liste collectée\n",
    "act_emotion_df = pd.DataFrame(act_emotion_data)\n",
    "\n",
    "# Afficher la distribution des actes par émotion\n",
    "import matplotlib.pyplot as plt\n",
    "import seaborn as sns\n",
    "\n",
    "plt.figure(figsize=(12, 6))\n",
    "sns.countplot(x='act', hue='emotion', data=act_emotion_df, palette='coolwarm')\n",
    "plt.title('Répartition des actes par émotion')\n",
    "plt.xlabel('Actes')\n",
    "plt.ylabel('Fréquence')\n",
    "plt.tight_layout()\n",
    "plt.show()\n"
   ]
  },
  {
   "cell_type": "code",
   "execution_count": 34,
   "metadata": {},
   "outputs": [
    {
     "name": "stdout",
     "output_type": "stream",
     "text": [
      "Train size: 82384, Test size: 20596\n"
     ]
    }
   ],
   "source": [
    "from sklearn.model_selection import train_test_split\n",
    "import numpy as np\n",
    "\n",
    "# Convertir les dialogues et émotions en listes de texte et étiquettes\n",
    "dialogues = []\n",
    "emotions = []\n",
    "\n",
    "for dialogue_data in data_cleaned:\n",
    "    for entry in dialogue_data:\n",
    "        dialogues.append(entry['dialogue'])\n",
    "        emotions.append(entry['emotion'])\n",
    "\n",
    "# Découper les données en ensembles d'entraînement et de test\n",
    "X_train, X_test, y_train, y_test = train_test_split(dialogues, emotions, test_size=0.2, random_state=42)\n",
    "\n",
    "# Vérifier les tailles des ensembles de données\n",
    "print(f\"Train size: {len(X_train)}, Test size: {len(X_test)}\")\n"
   ]
  },
  {
   "cell_type": "code",
   "execution_count": 35,
   "metadata": {},
   "outputs": [
    {
     "name": "stdout",
     "output_type": "stream",
     "text": [
      "Exemple de dialogue transformé : [ 0  0  0  0  0  0  0  0  0  0  0  0  0  0  0  0  0  0  0  0  0  0  0  0\n",
      "  0  0  0  0  0  0  0  0  0  0  0  0  0  0  0  0  0  0  0  0  0  0  0  0\n",
      "  0  0  0  0  0  0  0  0  0  0  0  0  0  0  0  0  0  0  0  0  0  0  0  0\n",
      "  0  0  0  0  0  0  0  0  0  0  0  0  0  0  0  0  0 59 39 82  1 86  1 12\n",
      "  5 41 63 36]\n"
     ]
    }
   ],
   "source": [
    "from keras.preprocessing.text import Tokenizer\n",
    "from keras.preprocessing.sequence import pad_sequences\n",
    "\n",
    "# Créer le tokenizer pour tokeniser les dialogues\n",
    "tokenizer = Tokenizer(num_words=5000)\n",
    "tokenizer.fit_on_texts(X_train)\n",
    "\n",
    "# Convertir les dialogues en séquences de tokens\n",
    "X_train_seq = tokenizer.texts_to_sequences(X_train)\n",
    "X_test_seq = tokenizer.texts_to_sequences(X_test)\n",
    "\n",
    "# Appliquer un padding pour uniformiser la longueur des séquences\n",
    "X_train_pad = pad_sequences(X_train_seq, maxlen=100)\n",
    "X_test_pad = pad_sequences(X_test_seq, maxlen=100)\n",
    "\n",
    "# Afficher un exemple\n",
    "print(f\"Exemple de dialogue transformé : {X_train_pad[0]}\")\n"
   ]
  },
  {
   "cell_type": "code",
   "execution_count": 37,
   "metadata": {},
   "outputs": [
    {
     "name": "stdout",
     "output_type": "stream",
     "text": [
      "Valeurs manquantes dans y_train : True\n",
      "Valeurs manquantes dans y_test : False\n"
     ]
    }
   ],
   "source": [
    "# Vérifier si des éléments sont manquants dans y_train et y_test\n",
    "print(f\"Valeurs manquantes dans y_train : {any(x is None for x in y_train)}\")\n",
    "print(f\"Valeurs manquantes dans y_test : {any(x is None for x in y_test)}\")\n"
   ]
  },
  {
   "cell_type": "code",
   "execution_count": 38,
   "metadata": {},
   "outputs": [],
   "source": [
    "# Filtrer les répliques et émotions avec des valeurs valides\n",
    "valid_indices = [i for i, emotion in enumerate(y_train) if emotion is not None]\n",
    "X_train_filtered = [X_train[i] for i in valid_indices]\n",
    "y_train_filtered = [y_train[i] for i in valid_indices]\n",
    "\n",
    "valid_indices = [i for i, emotion in enumerate(y_test) if emotion is not None]\n",
    "X_test_filtered = [X_test[i] for i in valid_indices]\n",
    "y_test_filtered = [y_test[i] for i in valid_indices]\n"
   ]
  },
  {
   "cell_type": "code",
   "execution_count": 40,
   "metadata": {},
   "outputs": [],
   "source": [
    "# Convertir y_train et y_test en entiers (si nécessaire)\n",
    "y_train_filtered = [int(emotion) for emotion in y_train_filtered]\n",
    "y_test_filtered = [int(emotion) for emotion in y_test_filtered]\n"
   ]
  },
  {
   "cell_type": "code",
   "execution_count": 41,
   "metadata": {},
   "outputs": [],
   "source": [
    "from keras.utils import to_categorical\n",
    "\n",
    "# Convertir les étiquettes émotionnelles en format catégoriel\n",
    "y_train_cat = to_categorical(y_train_filtered, num_classes=7)  # Exemple avec 7 émotions possibles\n",
    "y_test_cat = to_categorical(y_test_filtered, num_classes=7)\n"
   ]
  },
  {
   "cell_type": "code",
   "execution_count": 43,
   "metadata": {},
   "outputs": [
    {
     "name": "stdout",
     "output_type": "stream",
     "text": [
      "Shape de X_train_pad: 82384\n",
      "Shape de y_train_cat: 82383\n"
     ]
    }
   ],
   "source": [
    "print(f\"Shape de X_train_pad: {len(X_train_pad)}\")\n",
    "print(f\"Shape de y_train_cat: {len(y_train_cat)}\")\n"
   ]
  },
  {
   "cell_type": "code",
   "execution_count": 44,
   "metadata": {},
   "outputs": [
    {
     "name": "stdout",
     "output_type": "stream",
     "text": [
      "Shape après ajustement de X_train_pad: 82383\n",
      "Shape après ajustement de y_train_cat: 82383\n"
     ]
    }
   ],
   "source": [
    "# S'assurer que X_train_pad et y_train_cat ont le même nombre d'échantillons\n",
    "min_length = min(len(X_train_pad), len(y_train_cat))\n",
    "X_train_pad = X_train_pad[:min_length]\n",
    "y_train_cat = y_train_cat[:min_length]\n",
    "\n",
    "# Vérifier les tailles après ajustement\n",
    "print(f\"Shape après ajustement de X_train_pad: {len(X_train_pad)}\")\n",
    "print(f\"Shape après ajustement de y_train_cat: {len(y_train_cat)}\")\n"
   ]
  },
  {
   "cell_type": "code",
   "execution_count": 51,
   "metadata": {},
   "outputs": [
    {
     "ename": "FileNotFoundError",
     "evalue": "[Errno 2] No such file or directory: 'glove.6B.100d.txt'",
     "output_type": "error",
     "traceback": [
      "\u001b[1;31m---------------------------------------------------------------------------\u001b[0m",
      "\u001b[1;31mFileNotFoundError\u001b[0m                         Traceback (most recent call last)",
      "Cell \u001b[1;32mIn[51], line 5\u001b[0m\n\u001b[0;32m      3\u001b[0m \u001b[38;5;66;03m# Charger les embeddings GloVe\u001b[39;00m\n\u001b[0;32m      4\u001b[0m embedding_index \u001b[38;5;241m=\u001b[39m {}\n\u001b[1;32m----> 5\u001b[0m \u001b[38;5;28;01mwith\u001b[39;00m \u001b[38;5;28;43mopen\u001b[39;49m\u001b[43m(\u001b[49m\u001b[38;5;124;43m\"\u001b[39;49m\u001b[38;5;124;43mglove.6B.100d.txt\u001b[39;49m\u001b[38;5;124;43m\"\u001b[39;49m\u001b[43m,\u001b[49m\u001b[43m \u001b[49m\u001b[43mencoding\u001b[49m\u001b[38;5;241;43m=\u001b[39;49m\u001b[38;5;124;43m\"\u001b[39;49m\u001b[38;5;124;43mutf8\u001b[39;49m\u001b[38;5;124;43m\"\u001b[39;49m\u001b[43m)\u001b[49m \u001b[38;5;28;01mas\u001b[39;00m f:\n\u001b[0;32m      6\u001b[0m     \u001b[38;5;28;01mfor\u001b[39;00m line \u001b[38;5;129;01min\u001b[39;00m f:\n\u001b[0;32m      7\u001b[0m         values \u001b[38;5;241m=\u001b[39m line\u001b[38;5;241m.\u001b[39msplit()\n",
      "File \u001b[1;32m~\\AppData\\Roaming\\Python\\Python310\\site-packages\\IPython\\core\\interactiveshell.py:324\u001b[0m, in \u001b[0;36m_modified_open\u001b[1;34m(file, *args, **kwargs)\u001b[0m\n\u001b[0;32m    317\u001b[0m \u001b[38;5;28;01mif\u001b[39;00m file \u001b[38;5;129;01min\u001b[39;00m {\u001b[38;5;241m0\u001b[39m, \u001b[38;5;241m1\u001b[39m, \u001b[38;5;241m2\u001b[39m}:\n\u001b[0;32m    318\u001b[0m     \u001b[38;5;28;01mraise\u001b[39;00m \u001b[38;5;167;01mValueError\u001b[39;00m(\n\u001b[0;32m    319\u001b[0m         \u001b[38;5;124mf\u001b[39m\u001b[38;5;124m\"\u001b[39m\u001b[38;5;124mIPython won\u001b[39m\u001b[38;5;124m'\u001b[39m\u001b[38;5;124mt let you open fd=\u001b[39m\u001b[38;5;132;01m{\u001b[39;00mfile\u001b[38;5;132;01m}\u001b[39;00m\u001b[38;5;124m by default \u001b[39m\u001b[38;5;124m\"\u001b[39m\n\u001b[0;32m    320\u001b[0m         \u001b[38;5;124m\"\u001b[39m\u001b[38;5;124mas it is likely to crash IPython. If you know what you are doing, \u001b[39m\u001b[38;5;124m\"\u001b[39m\n\u001b[0;32m    321\u001b[0m         \u001b[38;5;124m\"\u001b[39m\u001b[38;5;124myou can use builtins\u001b[39m\u001b[38;5;124m'\u001b[39m\u001b[38;5;124m open.\u001b[39m\u001b[38;5;124m\"\u001b[39m\n\u001b[0;32m    322\u001b[0m     )\n\u001b[1;32m--> 324\u001b[0m \u001b[38;5;28;01mreturn\u001b[39;00m io_open(file, \u001b[38;5;241m*\u001b[39margs, \u001b[38;5;241m*\u001b[39m\u001b[38;5;241m*\u001b[39mkwargs)\n",
      "\u001b[1;31mFileNotFoundError\u001b[0m: [Errno 2] No such file or directory: 'glove.6B.100d.txt'"
     ]
    }
   ],
   "source": [
    "import numpy as np\n",
    "\n",
    "# Charger les embeddings GloVe\n",
    "embedding_index = {}\n",
    "with open(\"glove.6B.100d.txt\", encoding=\"utf8\") as f:\n",
    "    for line in f:\n",
    "        values = line.split()\n",
    "        word = values[0]\n",
    "        coefficients = np.asarray(values[1:], dtype=\"float32\")\n",
    "        embedding_index[word] = coefficients\n",
    "\n",
    "print(f\"Nombre de mots dans les embeddings GloVe : {len(embedding_index)}\")\n"
   ]
  }
 ],
 "metadata": {
  "kernelspec": {
   "display_name": "Python 3",
   "language": "python",
   "name": "python3"
  },
  "language_info": {
   "codemirror_mode": {
    "name": "ipython",
    "version": 3
   },
   "file_extension": ".py",
   "mimetype": "text/x-python",
   "name": "python",
   "nbconvert_exporter": "python",
   "pygments_lexer": "ipython3",
   "version": "3.10.0"
  }
 },
 "nbformat": 4,
 "nbformat_minor": 2
}
